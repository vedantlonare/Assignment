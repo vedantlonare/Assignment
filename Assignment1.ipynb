{
 "cells": [
  {
   "cell_type": "code",
   "execution_count": 3,
   "id": "b8dd4071",
   "metadata": {},
   "outputs": [
    {
     "data": {
      "text/plain": [
       "'1)Who developed Python Programming Language?\\nAns=> python is developed by guido ven rossum.'"
      ]
     },
     "execution_count": 3,
     "metadata": {},
     "output_type": "execute_result"
    }
   ],
   "source": [
    "'''1)Who developed Python Programming Language?\n",
    "Ans=> python is developed by guido ven rossum.'''"
   ]
  },
  {
   "cell_type": "code",
   "execution_count": 4,
   "id": "c9777b6a",
   "metadata": {},
   "outputs": [
    {
     "data": {
      "text/plain": [
       "'2) 2. Which type of Programming does Python support?\\nAns=> Python is an interpreted programming language, which supports object-oriented, structured, and functional programming.'"
      ]
     },
     "execution_count": 4,
     "metadata": {},
     "output_type": "execute_result"
    }
   ],
   "source": [
    "'''2) 2. Which type of Programming does Python support?\n",
    "Ans=> Python is an interpreted programming language, which supports object-oriented, structured, and functional programming.'''"
   ]
  },
  {
   "cell_type": "code",
   "execution_count": 5,
   "id": "20a56013",
   "metadata": {},
   "outputs": [
    {
     "data": {
      "text/plain": [
       "'3) Is Python case sensitive when dealing with identifiers?\\nAns=> Yes, Python is a case-sensitive language, so identifiers are case-sensitive.  '"
      ]
     },
     "execution_count": 5,
     "metadata": {},
     "output_type": "execute_result"
    }
   ],
   "source": [
    "'''3) Is Python case sensitive when dealing with identifiers?\n",
    "Ans=> Yes, Python is a case-sensitive language, so identifiers are case-sensitive.  '''"
   ]
  },
  {
   "cell_type": "code",
   "execution_count": 6,
   "id": "13ec5287",
   "metadata": {},
   "outputs": [
    {
     "data": {
      "text/plain": [
       "'4) What is the correct extension of the Python file?\\nAns=> The correct extension for Python source code files is “. py”.'"
      ]
     },
     "execution_count": 6,
     "metadata": {},
     "output_type": "execute_result"
    }
   ],
   "source": [
    "'''4) What is the correct extension of the Python file?\n",
    "Ans=> The correct extension for Python source code files is “. py”.'''"
   ]
  },
  {
   "cell_type": "code",
   "execution_count": 9,
   "id": "2d312eda",
   "metadata": {},
   "outputs": [
    {
     "data": {
      "text/plain": [
       "'5)Is Python code compiled or interpreted?\\nAns=> Python is interpreted language. as well us compiled which mean we compiton. Run th come it il first compiled amu Lemn interprit line by line.'"
      ]
     },
     "execution_count": 9,
     "metadata": {},
     "output_type": "execute_result"
    }
   ],
   "source": [
    "'''5)Is Python code compiled or interpreted?\n",
    "Ans=> Python is interpreted language. as well us compiled which mean we compiton. Run th come it il first compiled amu Lemn interprit line by line.'''"
   ]
  },
  {
   "cell_type": "code",
   "execution_count": 12,
   "id": "da106c69",
   "metadata": {},
   "outputs": [
    {
     "data": {
      "text/plain": [
       "'6) Name a few block of code used to difine in python language?\\nAns=> A python Program is constructed. from code blocks: a \"module\" \"Function body\", and a class cufinition.'"
      ]
     },
     "execution_count": 12,
     "metadata": {},
     "output_type": "execute_result"
    }
   ],
   "source": [
    "'''6) Name a few block of code used to difine in python language?\n",
    "Ans=> A python Program is constructed. from code blocks: a \"module\" \"Function body\", and a class cufinition.'''"
   ]
  },
  {
   "cell_type": "code",
   "execution_count": 13,
   "id": "69089dab",
   "metadata": {},
   "outputs": [
    {
     "data": {
      "text/plain": [
       "\"7)State of character used to give single line Comments in Python?\\nAns=> Comment's in python identified with a hash symbol # and extend to the end of the line.\""
      ]
     },
     "execution_count": 13,
     "metadata": {},
     "output_type": "execute_result"
    }
   ],
   "source": [
    "'''7)State of character used to give single line Comments in Python?\n",
    "Ans=> Comment's in python identified with a hash symbol # and extend to the end of the line.'''"
   ]
  },
  {
   "cell_type": "code",
   "execution_count": 15,
   "id": "e141a7c8",
   "metadata": {},
   "outputs": [
    {
     "data": {
      "text/plain": [
       "'8)Mention functions which can hete us to find the Varsion currently working on. of Pylkon that we are\\nAns=> The function SYS.Version can help us to find the version of Python that\\nare currently working one'"
      ]
     },
     "execution_count": 15,
     "metadata": {},
     "output_type": "execute_result"
    }
   ],
   "source": [
    "'''8)Mention functions which can hete us to find the Varsion currently  of Pylkon that we are working on.\n",
    "Ans=> The function SYS.Version can help us to find the version of Python that\n",
    "are currently working one'''"
   ]
  },
  {
   "cell_type": "code",
   "execution_count": 18,
   "id": "1ea881c6",
   "metadata": {},
   "outputs": [
    {
     "data": {
      "text/plain": [
       "\"9) python support's the creation of anonymous funchin as runtime velo η construct called?\\nAns=> Python supports the creation of ananymous function (i.e. funchon that are not bound to a name) at runtime, urly.\\nconstruct called Lambda.\""
      ]
     },
     "execution_count": 18,
     "metadata": {},
     "output_type": "execute_result"
    }
   ],
   "source": [
    "'''9) python support's the creation of anonymous funchin as runtime velo η construct called?\n",
    "Ans=> Python supports the creation of ananymous function (i.e. funchon that are not bound to a name) at runtime, urly.\n",
    "construct called Lambda.'''"
   ]
  },
  {
   "cell_type": "code",
   "execution_count": 21,
   "id": "a3bca8ed",
   "metadata": {},
   "outputs": [
    {
     "data": {
      "text/plain": [
       "'10) what dos pip Stand for python?\\nAns=> PIP is a recursive acronym for Preferred installer program\" it is a command-line utility that installes unistalls Pypl packages.'"
      ]
     },
     "execution_count": 21,
     "metadata": {},
     "output_type": "execute_result"
    }
   ],
   "source": [
    "'''10) what dos pip Stand for python?\n",
    "Ans=> PIP is a recursive acronym for Preferred installer program\" it is a command-line utility that installes unistalls Pypl packages.'''"
   ]
  },
  {
   "cell_type": "code",
   "execution_count": 22,
   "id": "9cc575fe",
   "metadata": {},
   "outputs": [
    {
     "data": {
      "text/plain": [
       "'11) Mention a few built-in function in exthen? \\nAns=>Print(), * type(), input(), ans() POP(), insert(), remove).'"
      ]
     },
     "execution_count": 22,
     "metadata": {},
     "output_type": "execute_result"
    }
   ],
   "source": [
    "'''11) Mention a few built-in function in exthen? \n",
    "Ans=>Print(), * type(), input(), ans() POP(), insert(), remove).'''"
   ]
  },
  {
   "cell_type": "code",
   "execution_count": 23,
   "id": "a4cb448a",
   "metadata": {},
   "outputs": [
    {
     "data": {
      "text/plain": [
       "'12) what is the maximum possible langth of an identifier in python?\\nAns=> An identifier can have a maximum. Longth of 79 characters in python.'"
      ]
     },
     "execution_count": 23,
     "metadata": {},
     "output_type": "execute_result"
    }
   ],
   "source": [
    "'''12) what is the maximum possible langth of an identifier in python?\n",
    "Ans=> An identifier can have a maximum. Longth of 79 characters in python.'''"
   ]
  },
  {
   "cell_type": "code",
   "execution_count": 24,
   "id": "5311c6ff",
   "metadata": {},
   "outputs": [
    {
     "data": {
      "text/plain": [
       "'13) What are the benefits of using python?\\n\\n#Presence of third party Modules.\\n\\n#Exlewive Support libraries.\\n\\n#Open Source and community Development.\\n\\n#user frindly Data Structures.'"
      ]
     },
     "execution_count": 24,
     "metadata": {},
     "output_type": "execute_result"
    }
   ],
   "source": [
    "'''13) What are the benefits of using python?\n",
    "\n",
    "#Presence of third party Modules.\n",
    "\n",
    "#Exlewive Support libraries.\n",
    "\n",
    "#Open Source and community Development.\n",
    "\n",
    "#user frindly Data Structures.'''"
   ]
  },
  {
   "cell_type": "code",
   "execution_count": 25,
   "id": "cde5feaf",
   "metadata": {},
   "outputs": [
    {
     "data": {
      "text/plain": [
       "'14) How is memory managed in python?\\nAns=>In python memory managemant is handled by as private heap space.'"
      ]
     },
     "execution_count": 25,
     "metadata": {},
     "output_type": "execute_result"
    }
   ],
   "source": [
    "'''14) How is memory managed in python?\n",
    "Ans=>In python memory managemant is handled by as private heap space.'''"
   ]
  },
  {
   "cell_type": "code",
   "execution_count": 27,
   "id": "2e05a749",
   "metadata": {},
   "outputs": [
    {
     "data": {
      "text/plain": [
       "'15) How to install python on windows card at puth Variables?\\n\\n1) Right click on my computer and dick on propetti.\\n\\n2) click on Advanced system settings. \\n\\n3) Click on Environment Variable tab.\\n\\n4)click on new rab of her variabw.\\n\\n5) with medh in variable-nune.\\n\\n6) Capy the Puth of python folcan.\\n\\n7)Paste path of python in Variable Value.'"
      ]
     },
     "execution_count": 27,
     "metadata": {},
     "output_type": "execute_result"
    }
   ],
   "source": [
    "'''15) How to install python on windows card at puth Variables?\n",
    "\n",
    "Ans=> 1) Right click on my computer and dick on propetti.\n",
    "\n",
    "2) click on Advanced system settings. \n",
    "\n",
    "3) Click on Environment Variable tab.\n",
    "\n",
    "4)click on new rab of her variabw.\n",
    "\n",
    "5) with medh in variable-nune.\n",
    "\n",
    "6) Capy the Puth of python folcan.\n",
    "\n",
    "7)Paste path of python in Variable Value.'''"
   ]
  },
  {
   "cell_type": "code",
   "execution_count": 28,
   "id": "85933950",
   "metadata": {},
   "outputs": [
    {
     "data": {
      "text/plain": [
       "\"16) is indentetion required in python?\\n\\nAns=> Python required incentation to He stement block's.\""
      ]
     },
     "execution_count": 28,
     "metadata": {},
     "output_type": "execute_result"
    }
   ],
   "source": [
    "'''16) is indentetion required in python?\n",
    "\n",
    "Ans=> Python required incentation to He stement block's.'''"
   ]
  },
  {
   "cell_type": "code",
   "execution_count": null,
   "id": "2c75c421",
   "metadata": {},
   "outputs": [],
   "source": []
  }
 ],
 "metadata": {
  "kernelspec": {
   "display_name": "Python 3 (ipykernel)",
   "language": "python",
   "name": "python3"
  },
  "language_info": {
   "codemirror_mode": {
    "name": "ipython",
    "version": 3
   },
   "file_extension": ".py",
   "mimetype": "text/x-python",
   "name": "python",
   "nbconvert_exporter": "python",
   "pygments_lexer": "ipython3",
   "version": "3.10.7"
  }
 },
 "nbformat": 4,
 "nbformat_minor": 5
}
