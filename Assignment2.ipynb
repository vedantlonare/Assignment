{
 "cells": [
  {
   "cell_type": "code",
   "execution_count": 1,
   "id": "a44cb1c3",
   "metadata": {},
   "outputs": [
    {
     "name": "stdout",
     "output_type": "stream",
     "text": [
      "Enter your marks = 98\n",
      "Grade=A\n"
     ]
    }
   ],
   "source": [
    "#Q:-1)\n",
    "Marks = int(input(\"Enter your marks = \"))\n",
    "if  Marks >= 90:\n",
    "    print(\"Grade=A\")\n",
    "elif Marks >=80 and Marks <= 90 :\n",
    "    print(\"Grade=B\")\n",
    "elif Marks >=60 and Marks <= 80  :\n",
    "    print(\"Grade=C\")\n",
    "else :\n",
    "    print(\"Grade=D\")"
   ]
  },
  {
   "cell_type": "code",
   "execution_count": 5,
   "id": "439da2ef",
   "metadata": {},
   "outputs": [
    {
     "name": "stdout",
     "output_type": "stream",
     "text": [
      "Enter the cost price =  170000\n",
      "Road tax shuld be = 15% \n"
     ]
    }
   ],
   "source": [
    "#Q:-2)\n",
    "cost = int(input(\"Enter the cost price =  \"))\n",
    "if cost >=100000:\n",
    "    print(\"Road tax shuld be = 15% \")\n",
    "elif cost >=50000 and cost <=100000:\n",
    "    print(\"Road tax shuld be = 10%\")\n",
    "else:\n",
    "    print(\"Road tax shuld be = 5%\")"
   ]
  },
  {
   "cell_type": "code",
   "execution_count": 25,
   "id": "0f7d0bc0",
   "metadata": {},
   "outputs": [
    {
     "name": "stdout",
     "output_type": "stream",
     "text": [
      "Enter the city = Dehli\n",
      "Monument is Red Fort \n"
     ]
    }
   ],
   "source": [
    "#:-3)\n",
    "city = str(input(\"Enter the city = \"))\n",
    "if (city == \"Dehli\" ):\n",
    "    print(\"Monument is Red Fort \")\n",
    "\n",
    "elif (city == \"Agra\"):\n",
    "    print(\"Monument is Taj Mahal\")\n",
    "\n",
    "elif (city == \"Jaipur\"):\n",
    "    print(\"Monument is Jal Mahal\")\n",
    "\n",
    "else:\n",
    "    print(\"Monument is not found\")\n",
    "        "
   ]
  },
  {
   "cell_type": "code",
   "execution_count": 54,
   "id": "42b0ec25",
   "metadata": {},
   "outputs": [
    {
     "name": "stdout",
     "output_type": "stream",
     "text": [
      "Enter the number = 15\n",
      "True\n"
     ]
    }
   ],
   "source": [
    "#Q:-4)\n",
    "i=int(input(\"Enter the number = \"))\n",
    "l=(i/3)\n",
    "v=(l<=10)\n",
    "print(v)\n",
    "\n",
    "    "
   ]
  },
  {
   "cell_type": "code",
   "execution_count": 1,
   "id": "c0402799",
   "metadata": {},
   "outputs": [
    {
     "name": "stdout",
     "output_type": "stream",
     "text": [
      "Enter your number :- 5\n",
      "5\n",
      "4\n",
      "3\n",
      "2\n",
      "1\n"
     ]
    }
   ],
   "source": [
    "#Q:-5)\n",
    "\"\"\"A \"while\" loop in python is used when usre want to repeatadly execute a block of code long as a certen\n",
    "condition is true.\n",
    "it is beneficial when the number of itretions is known in advance or when user want to perform a task until a specific\n",
    "condition is met .\n",
    "\"\"\"\n",
    "#SYNTAX:\n",
    "\n",
    "\"while conditon:\"\n",
    "\n",
    "#EX:- counting down from user input\n",
    "\n",
    "countdown = int(input(\"Enter your number :- \"))\n",
    "while countdown>0:\n",
    "    print(countdown)\n",
    "    countdown -= 1\n"
   ]
  },
  {
   "cell_type": "code",
   "execution_count": 7,
   "id": "2c75d292",
   "metadata": {},
   "outputs": [
    {
     "name": "stdout",
     "output_type": "stream",
     "text": [
      "$\n",
      "$$\n",
      "$$$\n",
      "$$$$\n",
      "$$$$$\n",
      "$$$$$$\n",
      "$$$$$$$\n"
     ]
    }
   ],
   "source": [
    "i = 0\n",
    "while i < 7:\n",
    "    j = 0\n",
    "    while j <= i:\n",
    "        print(\"$\",end = \"\")\n",
    "        j += 1\n",
    "    print()\n",
    "    i +=1"
   ]
  },
  {
   "cell_type": "code",
   "execution_count": 11,
   "id": "a5884e80",
   "metadata": {},
   "outputs": [
    {
     "name": "stdout",
     "output_type": "stream",
     "text": [
      "$$$$$$$\n",
      "$$$$$$\n",
      "$$$$$\n",
      "$$$$\n",
      "$$$\n",
      "$$\n",
      "$\n"
     ]
    }
   ],
   "source": [
    "i = 7\n",
    "while i > 0:\n",
    "    j = 0\n",
    "    while j < i:\n",
    "        print(\"$\",end = \"\")\n",
    "        j += 1\n",
    "    print()\n",
    "    i -= 1"
   ]
  },
  {
   "cell_type": "code",
   "execution_count": 1,
   "id": "d1d5ed17",
   "metadata": {},
   "outputs": [
    {
     "name": "stdout",
     "output_type": "stream",
     "text": [
      "#         #\n",
      "##       ##\n",
      "###     ###\n",
      "####   ####\n",
      "##### #####\n"
     ]
    }
   ],
   "source": [
    "i = 1\n",
    "while i <= 5:\n",
    "    j = 1\n",
    "    while j <= i:\n",
    "        print(\"#\", end=\"\")\n",
    "        j += 1\n",
    "    k = 1\n",
    "    while k <= 11 - 2 * i:\n",
    "        print(\" \", end=\"\")\n",
    "        k += 1\n",
    "    j = 1\n",
    "    while j <= i:\n",
    "        print(\"#\", end=\"\")\n",
    "        j += 1\n",
    "    print()\n",
    "    i += 1"
   ]
  },
  {
   "cell_type": "code",
   "execution_count": 8,
   "id": "bb4be8d5",
   "metadata": {},
   "outputs": [
    {
     "name": "stdout",
     "output_type": "stream",
     "text": [
      "10\n",
      "9\n",
      "8\n",
      "7\n",
      "6\n",
      "5\n",
      "4\n",
      "3\n",
      "2\n",
      "1\n"
     ]
    }
   ],
   "source": [
    "#Q.7)\n",
    "\n",
    "a = 10\n",
    "\n",
    "while a >= 1 :\n",
    "    print(a)\n",
    "    a = a - 1  \n",
    "\n"
   ]
  },
  {
   "cell_type": "code",
   "execution_count": null,
   "id": "36fe3f91",
   "metadata": {},
   "outputs": [],
   "source": []
  },
  {
   "cell_type": "code",
   "execution_count": null,
   "id": "20c53133",
   "metadata": {},
   "outputs": [],
   "source": []
  }
 ],
 "metadata": {
  "kernelspec": {
   "display_name": "Python 3 (ipykernel)",
   "language": "python",
   "name": "python3"
  },
  "language_info": {
   "codemirror_mode": {
    "name": "ipython",
    "version": 3
   },
   "file_extension": ".py",
   "mimetype": "text/x-python",
   "name": "python",
   "nbconvert_exporter": "python",
   "pygments_lexer": "ipython3",
   "version": "3.10.7"
  }
 },
 "nbformat": 4,
 "nbformat_minor": 5
}
